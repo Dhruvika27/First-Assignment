{
 "cells": [
  {
   "cell_type": "markdown",
   "metadata": {},
   "source": [
    "## Arithmetic Expression Examples\n",
    "\n",
    "In data science and programming, arithmetic expressions are fundamental for performing mathematical operations. Here are some examples of arithmetic expressions using Python:\n",
    "\n",
    "### Addition\n",
    "\n",
    "##### Example: Addition\n",
    "result_addition = 5 + 3\n",
    "print(f\"5 + 3 equals {result_addition}\") "
   ]
  }
 ],
 "metadata": {
  "kernelspec": {
   "display_name": "Python 3",
   "language": "python",
   "name": "python3"
  },
  "language_info": {
   "codemirror_mode": {
    "name": "ipython",
    "version": 3
   },
   "file_extension": ".py",
   "mimetype": "text/x-python",
   "name": "python",
   "nbconvert_exporter": "python",
   "pygments_lexer": "ipython3",
   "version": "3.8.3"
  }
 },
 "nbformat": 4,
 "nbformat_minor": 4
}
