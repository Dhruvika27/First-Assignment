{
 "cells": [
  {
   "cell_type": "markdown",
   "metadata": {},
   "source": [
    "# My First Assignment"
   ]
  },
  {
   "cell_type": "markdown",
   "metadata": {},
   "source": [
    "## Introduction to Data Science\n",
    "\n",
    "Data Science is a multidisciplinary field that utilizes various techniques, algorithms, processes, and systems to extract insights and knowledge from structured and unstructured data. It combines expertise from statistics, mathematics, computer science, and domain-specific knowledge to analyze and interpret complex data sets."
   ]
  },
  {
   "cell_type": "markdown",
   "metadata": {},
   "source": [
    "### List of data science languages\n",
    "\n",
    "1. Python\n",
    "2. R\n",
    "3. Java\n",
    "4. Scala\n",
    "5. JavaScript\n",
    "6. Julia \n",
    "and more...."
   ]
  },
  {
   "cell_type": "markdown",
   "metadata": {},
   "source": [
    "### List of data science libraries\n",
    "\n",
    "1. NumPy\n",
    "2. pandas\n",
    "3. Matplotlib\n",
    "4. Seaborn\n",
    "5. scikit-learn\n",
    "6. TensorFlow\n",
    "7. Plotly\n",
    "8. SciPy\n",
    "9. Keras\n",
    "10. PyTorch and more ..."
   ]
  },
  {
   "cell_type": "markdown",
   "metadata": {},
   "source": [
    "### Table of Data Science tools\n",
    "\n",
    "| Category                 | Tool                            | Description                                                        |\n",
    "|--------------------------|---------------------------------|--------------------------------------------------------------      |\n",
    "| Data Manipulation        | Python (with Pandas)            | Data manipulation and analysis using the Pandas library.           |\n",
    "|                          | R                               | R language for statistical computing and data analysis.            |\n",
    "|                          | SQL                             | Database querying and manipulation language.                       |\n",
    "|                          | Excel                           | Spreadsheet software for data analysis and visualization.          |\n",
    "| Data Analysis            | Jupyter Notebooks               | Interactive and collaborative computing environment.               |\n",
    "|                          | RStudio                         | Integrated development environment (IDE) for R.                    |\n",
    "|                          | MATLAB                          | High-level language and environment for numerical computing.       |\n",
    "| Machine Learning         | scikit-learn                    | Machine learning library for classic algorithms in Python.         |\n",
    "|                          | TensorFlow                      | Open-source machine learning framework developed by Google.        | \n",
    "|                          | PyTorch                         | Open-source deep learning library developed by Facebook.           |\n",
    "|                          | XGBoost / LightGBM              | Libraries for gradient boosting algorithms.                        |\n",
    "|                          | RapidMiner                      | Integrated data science platform with machine learning tools.      |\n",
    "| Data Visualization       | Matplotlib                      | 2D plotting library for creating static visualizations.            |\n",
    "|                          | Seaborn                         | Statistical data visualization built on Matplotlib.                |\n",
    "|                          | Plotly                          | Library for creating interactive visualizations.                   |\n",
    "|                          | Tableau                         | Business intelligence tool for creating dashboards.                |\n",
    "|                          | Power BI                        | Business analytics service by Microsoft for interactive reports.   |\n",
    "| Big Data Processing      | Apache Spark                    | Distributed computing system for big data processing.              |\n",
    "|                          | Hadoop                          | Framework for distributed storage and processing of large datasets.|\n",
    "|                          | Flink                           | Open-source stream processing framework.                           |\n",
    "| Version Control          | Git                             | Distributed version control system for tracking changes in code.   |\n",
    "|                          | GitHub / GitLab / Bitbucket     | Platforms for hosting and collaborating on Git repositories.       |\n",
    "| Collaboration            | Slack                           | Team collaboration tool with channels for communication.           |\n",
    "|                          | Trello                          | Project management tool with boards and cards.                     |\n",
    "|                          | Asana                           | Task management tool for teams.                                    |\n"
   ]
  },
  {
   "cell_type": "markdown",
   "metadata": {},
   "source": []
  },
  {
   "cell_type": "markdown",
   "metadata": {},
   "source": [
    "## Arithmetic Expression Examples\n",
    "\n",
    "In data science and programming, arithmetic expressions are fundamental for performing mathematical operations. Here are some examples of arithmetic expressions using Python:\n",
    "\n",
    "### Addition\n",
    "\n",
    "##### Example: Addition\n",
    "result_addition = 5 + 3\n",
    "print(f\"5 + 3 equals {result_addition}\") "
   ]
  },
  {
   "cell_type": "code",
   "execution_count": 12,
   "metadata": {},
   "outputs": [
    {
     "data": {
      "text/plain": [
       "13320"
      ]
     },
     "execution_count": 12,
     "metadata": {},
     "output_type": "execute_result"
    }
   ],
   "source": [
    "#### Multiply and Addition \n",
    "\n",
    "12*(555+555)"
   ]
  },
  {
   "cell_type": "code",
   "execution_count": 13,
   "metadata": {},
   "outputs": [
    {
     "name": "stdout",
     "output_type": "stream",
     "text": [
      "120 minutes is equal to 2.0 hours\n"
     ]
    }
   ],
   "source": [
    "## Convert minutes to hours. \n",
    "\n",
    "minutes = 120\n",
    "hours = minutes / 60\n",
    "print(f\"{minutes} minutes is equal to {hours} hours\")"
   ]
  },
  {
   "cell_type": "markdown",
   "metadata": {},
   "source": [
    "## Objectives\n",
    "\n",
    "1. **Data Exploration:**\n",
    "   - Understand the structure and characteristics of the dataset.\n",
    "   - Identify key features and their distributions.\n",
    "\n",
    "2. **Data Cleaning:**\n",
    "   - Handle missing values.\n",
    "   - Address outliers and anomalies.\n",
    "   - Ensure data consistency.\n",
    "\n",
    "3. **Feature Engineering:**\n",
    "   - Create new meaningful features.\n",
    "   - Transform variables if needed (e.g., normalization, encoding).\n",
    "\n",
    "4. **Exploratory Data Analysis (EDA):**\n",
    "   - Generate descriptive statistics.\n",
    "   - Visualize relationships between variables.\n",
    "   - Uncover patterns and trends in the data.\n",
    "\n",
    "5. **Model Building:**\n",
    "   - Select appropriate machine learning models.\n",
    "   - Split the dataset into training and testing sets.\n",
    "   - Train and fine-tune the models.\n",
    "\n",
    "6. **Evaluation:**\n",
    "   - Assess model performance using relevant metrics.\n",
    "   - Identify areas for improvement.\n",
    "\n",
    "7. **Communication:**\n",
    "   - Summarize findings in a clear and concise manner.\n",
    "   - Visualize results for easy interpretation.\n",
    "   - Provide actionable insights and recommendations.\n",
    "\n",
    "8. **Documentation:**\n",
    "   - Document the code and analysis process.\n",
    "   - Create a report or presentation to share with stakeholders.\n",
    "\n",
    "9. **Iterate and Improve:**\n",
    "   - Gather feedback and iterate on the analysis.\n",
    "   - Explore additional features or models for improvement."
   ]
  },
  {
   "cell_type": "markdown",
   "metadata": {},
   "source": [
    "## Author\n",
    "\n",
    "**Author:** Dhruvika Rajpara"
   ]
  }
 ],
 "metadata": {
  "kernelspec": {
   "display_name": "Python 3",
   "language": "python",
   "name": "python3"
  },
  "language_info": {
   "codemirror_mode": {
    "name": "ipython",
    "version": 3
   },
   "file_extension": ".py",
   "mimetype": "text/x-python",
   "name": "python",
   "nbconvert_exporter": "python",
   "pygments_lexer": "ipython3",
   "version": "3.8.3"
  }
 },
 "nbformat": 4,
 "nbformat_minor": 4
}
