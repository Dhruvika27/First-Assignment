{
 "cells": [
  {
   "cell_type": "markdown",
   "metadata": {},
   "source": [
    "### Table of Data Science tools\n",
    "\n",
    "| Category                 | Tool                            | Description                                                        |\n",
    "|--------------------------|---------------------------------|--------------------------------------------------------------      |\n",
    "| Data Manipulation        | Python (with Pandas)            | Data manipulation and analysis using the Pandas library.           |\n",
    "|                          | R                               | R language for statistical computing and data analysis.            |\n",
    "|                          | SQL                             | Database querying and manipulation language.                       |\n",
    "|                          | Excel                           | Spreadsheet software for data analysis and visualization.          |\n",
    "| Data Analysis            | Jupyter Notebooks               | Interactive and collaborative computing environment.               |\n",
    "|                          | RStudio                         | Integrated development environment (IDE) for R.                    |\n",
    "|                          | MATLAB                          | High-level language and environment for numerical computing.       |\n",
    "| Machine Learning         | scikit-learn                    | Machine learning library for classic algorithms in Python.         |\n",
    "|                          | TensorFlow                      | Open-source machine learning framework developed by Google.        | \n",
    "|                          | PyTorch                         | Open-source deep learning library developed by Facebook.           |\n",
    "|                          | XGBoost / LightGBM              | Libraries for gradient boosting algorithms.                        |\n",
    "|                          | RapidMiner                      | Integrated data science platform with machine learning tools.      |\n",
    "| Data Visualization       | Matplotlib                      | 2D plotting library for creating static visualizations.            |\n",
    "|                          | Seaborn                         | Statistical data visualization built on Matplotlib.                |\n",
    "|                          | Plotly                          | Library for creating interactive visualizations.                   |\n",
    "|                          | Tableau                         | Business intelligence tool for creating dashboards.                |\n",
    "|                          | Power BI                        | Business analytics service by Microsoft for interactive reports.   |\n",
    "| Big Data Processing      | Apache Spark                    | Distributed computing system for big data processing.              |\n",
    "|                          | Hadoop                          | Framework for distributed storage and processing of large datasets.|\n",
    "|                          | Flink                           | Open-source stream processing framework.                           |\n",
    "| Version Control          | Git                             | Distributed version control system for tracking changes in code.   |\n",
    "|                          | GitHub / GitLab / Bitbucket     | Platforms for hosting and collaborating on Git repositories.       |\n",
    "| Collaboration            | Slack                           | Team collaboration tool with channels for communication.           |\n",
    "|                          | Trello                          | Project management tool with boards and cards.                     |\n",
    "|                          | Asana                           | Task management tool for teams.                                    |\n"
   ]
  }
 ],
 "metadata": {
  "kernelspec": {
   "display_name": "Python 3",
   "language": "python",
   "name": "python3"
  },
  "language_info": {
   "codemirror_mode": {
    "name": "ipython",
    "version": 3
   },
   "file_extension": ".py",
   "mimetype": "text/x-python",
   "name": "python",
   "nbconvert_exporter": "python",
   "pygments_lexer": "ipython3",
   "version": "3.8.3"
  }
 },
 "nbformat": 4,
 "nbformat_minor": 4
}
